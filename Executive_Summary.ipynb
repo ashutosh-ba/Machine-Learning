{
 "cells": [
  {
   "cell_type": "markdown",
   "metadata": {},
   "source": [
    "## Funtions to use\n",
    "\n",
    ">* Connecting to SQL DB\n",
    ">* Data transformations\n",
    ">* PLotting to generate an HTML dash\n",
    ">* Email sending code\n",
    ">* Error handling\n",
    "\n",
    "Scheduling the script to be run every day. "
   ]
  },
  {
   "cell_type": "markdown",
   "metadata": {},
   "source": [
    "#### things to show as visualization\n",
    "\n",
    "\n",
    "    Today's counts. \n",
    "    Counts by flow types \n",
    "    counts by shift\n",
    "    Successful proceeses in the past getting failed count\n",
    "    count by project\n",
    "    Comparisions of today with week, month\n",
    "    Average Elapse time, average "
   ]
  },
  {
   "cell_type": "markdown",
   "metadata": {},
   "source": [
    "#### Data transformations and charts \n",
    ">* create a function to take , now time , time difference to take and returns only required data\n",
    ">* create a function that takes now time and no of days(n) and gets summary data of past n days\n",
    ">* create a function to make charts"
   ]
  },
  {
   "cell_type": "code",
   "execution_count": 1,
   "metadata": {
    "collapsed": true
   },
   "outputs": [],
   "source": [
    "import numpy as np \n",
    "import pandas as pd\n",
    "import datetime\n",
    "\n",
    "import plotly\n",
    "# print(plotly.__version__)  # version >1.9.4 required\n",
    "from plotly.graph_objs import Scatter, Layout"
   ]
  },
  {
   "cell_type": "code",
   "execution_count": 2,
   "metadata": {
    "scrolled": false
   },
   "outputs": [
    {
     "data": {
      "text/html": [
       "<div>\n",
       "<style>\n",
       "    .dataframe thead tr:only-child th {\n",
       "        text-align: right;\n",
       "    }\n",
       "\n",
       "    .dataframe thead th {\n",
       "        text-align: left;\n",
       "    }\n",
       "\n",
       "    .dataframe tbody tr th {\n",
       "        vertical-align: top;\n",
       "    }\n",
       "</style>\n",
       "<table border=\"1\" class=\"dataframe\">\n",
       "  <thead>\n",
       "    <tr style=\"text-align: right;\">\n",
       "      <th></th>\n",
       "      <th>execution_id</th>\n",
       "      <th>Flow</th>\n",
       "      <th>Project</th>\n",
       "      <th>user</th>\n",
       "      <th>Start_Time</th>\n",
       "      <th>End_Time</th>\n",
       "      <th>Elapsed</th>\n",
       "      <th>Job_Name</th>\n",
       "      <th>status</th>\n",
       "      <th>error_Reason</th>\n",
       "      <th>Flow_Type</th>\n",
       "      <th>Shift</th>\n",
       "      <th>ETL_Load_Time</th>\n",
       "      <th>Issue_Type</th>\n",
       "      <th>Last_Successful_Run</th>\n",
       "    </tr>\n",
       "  </thead>\n",
       "  <tbody>\n",
       "    <tr>\n",
       "      <th>0</th>\n",
       "      <td>1080708</td>\n",
       "      <td>atg_top_offers_executor_flow</td>\n",
       "      <td>Marketing</td>\n",
       "      <td>pzhdusr</td>\n",
       "      <td>05-06-2018 5.03</td>\n",
       "      <td>05-06-2018 5.13</td>\n",
       "      <td>10m 0s</td>\n",
       "      <td>atg_top_offers_executer_flowtocheck</td>\n",
       "      <td>Failed</td>\n",
       "      <td>Last execution of the flow Data_Acquisition:kl...</td>\n",
       "      <td>High</td>\n",
       "      <td>AfterNoon</td>\n",
       "      <td>2018-06-05 18:31:45.311556</td>\n",
       "      <td>Application</td>\n",
       "      <td>NaN</td>\n",
       "    </tr>\n",
       "    <tr>\n",
       "      <th>1</th>\n",
       "      <td>1080708</td>\n",
       "      <td>atg_top_offers_executor_flow</td>\n",
       "      <td>Marketing</td>\n",
       "      <td>pzhdusr</td>\n",
       "      <td>05-06-2018 5.03</td>\n",
       "      <td>05-06-2018 5.13</td>\n",
       "      <td>10m 0s</td>\n",
       "      <td>atg_top_offers_executer_flowtocheck</td>\n",
       "      <td>Failed</td>\n",
       "      <td>Not started.null', Last execution of the flow ...</td>\n",
       "      <td>High</td>\n",
       "      <td>AfterNoon</td>\n",
       "      <td>2018-06-05 18:36:49.989653</td>\n",
       "      <td>Application</td>\n",
       "      <td>NaN</td>\n",
       "    </tr>\n",
       "    <tr>\n",
       "      <th>2</th>\n",
       "      <td>1080879</td>\n",
       "      <td>nativeapp_denorm_flow</td>\n",
       "      <td>Nativeapp</td>\n",
       "      <td>pzhdusr</td>\n",
       "      <td>05-06-2018 8.45</td>\n",
       "      <td>05-06-2018 9.01</td>\n",
       "      <td>15m 0s</td>\n",
       "      <td>nativeapp_check_cba_flow</td>\n",
       "      <td>Failed</td>\n",
       "      <td>Last execution of the flow Clickstream:cart_an...</td>\n",
       "      <td>Critical</td>\n",
       "      <td>AfterNoon</td>\n",
       "      <td>2018-06-05 21:44:25.237108</td>\n",
       "      <td>Application</td>\n",
       "      <td>NaN</td>\n",
       "    </tr>\n",
       "    <tr>\n",
       "      <th>3</th>\n",
       "      <td>1080874</td>\n",
       "      <td>atg_top_offers_executor_flow</td>\n",
       "      <td>Marketing</td>\n",
       "      <td>pzhdusr</td>\n",
       "      <td>05-06-2018 8.42</td>\n",
       "      <td>05-06-2018 8.52</td>\n",
       "      <td>10m 0s</td>\n",
       "      <td>atg_top_offers_executer_flowtocheck</td>\n",
       "      <td>Failed</td>\n",
       "      <td>Not started.null', Last execution of the flow ...</td>\n",
       "      <td>High</td>\n",
       "      <td>AfterNoon</td>\n",
       "      <td>2018-06-05 21:44:25.237108</td>\n",
       "      <td>Application</td>\n",
       "      <td>NaN</td>\n",
       "    </tr>\n",
       "    <tr>\n",
       "      <th>4</th>\n",
       "      <td>1080863</td>\n",
       "      <td>dmnd-sales-current-cncld-ord-flow</td>\n",
       "      <td>BigData-ECOM</td>\n",
       "      <td>pzhdusr</td>\n",
       "      <td>05-06-2018 8.36</td>\n",
       "      <td>05-06-2018 8.36</td>\n",
       "      <td>4 sec</td>\n",
       "      <td>dmnd-sales-current-cncld-ord-data-transformation</td>\n",
       "      <td>Failed</td>\n",
       "      <td>' No new records to process because DMND_SLS_C...</td>\n",
       "      <td>High</td>\n",
       "      <td>AfterNoon</td>\n",
       "      <td>2018-06-05 21:44:25.237108</td>\n",
       "      <td>Application</td>\n",
       "      <td>NaN</td>\n",
       "    </tr>\n",
       "  </tbody>\n",
       "</table>\n",
       "</div>"
      ],
      "text/plain": [
       "   execution_id                               Flow       Project     user  \\\n",
       "0       1080708       atg_top_offers_executor_flow     Marketing  pzhdusr   \n",
       "1       1080708       atg_top_offers_executor_flow     Marketing  pzhdusr   \n",
       "2       1080879              nativeapp_denorm_flow     Nativeapp  pzhdusr   \n",
       "3       1080874       atg_top_offers_executor_flow     Marketing  pzhdusr   \n",
       "4       1080863  dmnd-sales-current-cncld-ord-flow  BigData-ECOM  pzhdusr   \n",
       "\n",
       "        Start_Time         End_Time Elapsed  \\\n",
       "0  05-06-2018 5.03  05-06-2018 5.13  10m 0s   \n",
       "1  05-06-2018 5.03  05-06-2018 5.13  10m 0s   \n",
       "2  05-06-2018 8.45  05-06-2018 9.01  15m 0s   \n",
       "3  05-06-2018 8.42  05-06-2018 8.52  10m 0s   \n",
       "4  05-06-2018 8.36  05-06-2018 8.36   4 sec   \n",
       "\n",
       "                                           Job_Name  status  \\\n",
       "0               atg_top_offers_executer_flowtocheck  Failed   \n",
       "1               atg_top_offers_executer_flowtocheck  Failed   \n",
       "2                          nativeapp_check_cba_flow  Failed   \n",
       "3               atg_top_offers_executer_flowtocheck  Failed   \n",
       "4  dmnd-sales-current-cncld-ord-data-transformation  Failed   \n",
       "\n",
       "                                        error_Reason Flow_Type      Shift  \\\n",
       "0  Last execution of the flow Data_Acquisition:kl...      High  AfterNoon   \n",
       "1  Not started.null', Last execution of the flow ...      High  AfterNoon   \n",
       "2  Last execution of the flow Clickstream:cart_an...  Critical  AfterNoon   \n",
       "3  Not started.null', Last execution of the flow ...      High  AfterNoon   \n",
       "4  ' No new records to process because DMND_SLS_C...      High  AfterNoon   \n",
       "\n",
       "                ETL_Load_Time   Issue_Type  Last_Successful_Run  \n",
       "0  2018-06-05 18:31:45.311556  Application                  NaN  \n",
       "1  2018-06-05 18:36:49.989653  Application                  NaN  \n",
       "2  2018-06-05 21:44:25.237108  Application                  NaN  \n",
       "3  2018-06-05 21:44:25.237108  Application                  NaN  \n",
       "4  2018-06-05 21:44:25.237108  Application                  NaN  "
      ]
     },
     "execution_count": 2,
     "metadata": {},
     "output_type": "execute_result"
    }
   ],
   "source": [
    "df = pd.read_csv(\"Failed_Logs_kohls.csv\")\n",
    "df.head()"
   ]
  },
  {
   "cell_type": "code",
   "execution_count": 3,
   "metadata": {},
   "outputs": [
    {
     "data": {
      "text/plain": [
       "Index(['execution_id', 'Flow', 'Project', 'user', 'Start_Time', 'End_Time',\n",
       "       'Elapsed', 'Job_Name', 'status', 'error_Reason', 'Flow_Type', 'Shift',\n",
       "       'ETL_Load_Time', 'Issue_Type', 'Last_Successful_Run'],\n",
       "      dtype='object')"
      ]
     },
     "execution_count": 3,
     "metadata": {},
     "output_type": "execute_result"
    }
   ],
   "source": [
    "df.columns"
   ]
  },
  {
   "cell_type": "code",
   "execution_count": 4,
   "metadata": {
    "collapsed": true
   },
   "outputs": [],
   "source": [
    "vars = ['Flow', 'Project', 'Job_Name','Flow_Type', 'Shift', 'Issue_Type']"
   ]
  },
  {
   "cell_type": "code",
   "execution_count": 5,
   "metadata": {},
   "outputs": [
    {
     "data": {
      "text/plain": [
       "Application    923\n",
       "Environment     53\n",
       "Name: Issue_Type, dtype: int64"
      ]
     },
     "execution_count": 5,
     "metadata": {},
     "output_type": "execute_result"
    }
   ],
   "source": [
    "df[vars[5]].value_counts()"
   ]
  },
  {
   "cell_type": "code",
   "execution_count": 6,
   "metadata": {
    "collapsed": true
   },
   "outputs": [],
   "source": [
    "def convertSQLDateTimeToTimestamp(value):\n",
    "    return datetime.datetime.strptime(value, '%m-%d-%Y %H.%M')\n",
    "\n",
    "df['Start_Time'] = df['Start_Time'].apply(lambda x : convertSQLDateTimeToTimestamp(x))"
   ]
  },
  {
   "cell_type": "code",
   "execution_count": 7,
   "metadata": {},
   "outputs": [
    {
     "data": {
      "text/plain": [
       "'file://C:\\\\Users\\\\Admin\\\\WHISK SOFTWARE PVT. LTD\\\\Macys - POC\\\\temp-plot.html'"
      ]
     },
     "execution_count": 7,
     "metadata": {},
     "output_type": "execute_result"
    }
   ],
   "source": [
    "plotly.offline.plot({\n",
    "\"data\": [\n",
    "    Scatter(x=[1, 2, 3, 4], y=[4, 1, 3, 7])\n",
    "],\n",
    "\"layout\": Layout(\n",
    "    title=\"hello world\"\n",
    ")\n",
    "})"
   ]
  },
  {
   "cell_type": "code",
   "execution_count": 8,
   "metadata": {},
   "outputs": [
    {
     "data": {
      "text/html": [
       "<a href=\"https://plot.ly/~christopherp/308\" target=\"_blank\"><img src=\"https://plot.ly/~christopherp/308.png\"></a><br><hr><a href=\"https://plot.ly/~christopherp/306\" target=\"_blank\"><img src=\"https://plot.ly/~christopherp/306.png\"></a><br><hr><a href=\"https://plot.ly/~christopherp/300\" target=\"_blank\"><img src=\"https://plot.ly/~christopherp/300.png\"></a><br><hr><a href=\"https://plot.ly/~christopherp/296\" target=\"_blank\"><img src=\"https://plot.ly/~christopherp/296.png\"></a><br><hr>"
      ],
      "text/plain": [
       "<IPython.core.display.HTML object>"
      ]
     },
     "metadata": {},
     "output_type": "display_data"
    }
   ],
   "source": [
    "# The public plotly graphs to include in the email. These can also be generated with `py.plot(figure, filename)`\n",
    "graphs = [\n",
    "    'https://plot.ly/~christopherp/308',\n",
    "    'https://plot.ly/~christopherp/306',\n",
    "    'https://plot.ly/~christopherp/300',\n",
    "    'https://plot.ly/~christopherp/296'\n",
    "]\n",
    "\n",
    "\n",
    "from IPython.display import display, HTML\n",
    "\n",
    "template = (''\n",
    "    '<a href=\"{graph_url}\" target=\"_blank\">' # Open the interactive graph when you click on the image\n",
    "        '<img src=\"{graph_url}.png\">'        # Use the \".png\" magic url so that the latest, most-up-to-date image is included\n",
    "    '</a>'\n",
    "    '{caption}'                              # Optional caption to include below the graph\n",
    "    '<br>'                                   # Line break\n",
    "    '<hr>'                                   # horizontal line\n",
    "'')\n",
    "\n",
    "email_body = ''\n",
    "for graph in graphs:\n",
    "    _ = template\n",
    "    _ = _.format(graph_url=graph, caption='')\n",
    "    email_body += _\n",
    "\n",
    "display(HTML(email_body))"
   ]
  },
  {
   "cell_type": "code",
   "execution_count": 9,
   "metadata": {
    "collapsed": true
   },
   "outputs": [],
   "source": [
    "me  = 'lavanyadav009@gmail.com'\n",
    "recipient = 'lavanya.davluri@gspann.com'\n",
    "subject = 'Graph Report'\n",
    "\n",
    "email_server_host = 'smtp.gmail.com'\n",
    "port = 587\n",
    "email_username = me\n",
    "email_password = '2VD08ec009'\n",
    "\n",
    "\n",
    "import smtplib\n",
    "from email.mime.multipart import MIMEMultipart\n",
    "from email.mime.text import MIMEText\n",
    "import os\n",
    "\n",
    "msg = MIMEMultipart('alternative')\n",
    "msg['From'] = me\n",
    "msg['To'] = recipient\n",
    "msg['Subject'] = subject\n",
    "\n",
    "msg.attach(MIMEText(email_body, 'html'))\n",
    "\n",
    "server = smtplib.SMTP(email_server_host, port)\n",
    "server.ehlo()\n",
    "server.starttls()\n",
    "server.login(email_username, email_password)\n",
    "server.sendmail(me, recipient, msg.as_string())\n",
    "server.close()"
   ]
  },
  {
   "cell_type": "code",
   "execution_count": null,
   "metadata": {
    "collapsed": true
   },
   "outputs": [],
   "source": []
  },
  {
   "cell_type": "code",
   "execution_count": null,
   "metadata": {
    "collapsed": true
   },
   "outputs": [],
   "source": []
  },
  {
   "cell_type": "code",
   "execution_count": null,
   "metadata": {
    "collapsed": true
   },
   "outputs": [],
   "source": []
  }
 ],
 "metadata": {
  "kernelspec": {
   "display_name": "Python 3",
   "language": "python",
   "name": "python3"
  },
  "language_info": {
   "codemirror_mode": {
    "name": "ipython",
    "version": 3
   },
   "file_extension": ".py",
   "mimetype": "text/x-python",
   "name": "python",
   "nbconvert_exporter": "python",
   "pygments_lexer": "ipython3",
   "version": "3.6.3"
  }
 },
 "nbformat": 4,
 "nbformat_minor": 2
}
